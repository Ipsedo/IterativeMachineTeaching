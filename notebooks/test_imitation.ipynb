{
 "cells": [
  {
   "cell_type": "code",
   "execution_count": null,
   "id": "d70e4c00",
   "metadata": {},
   "outputs": [],
   "source": [
    "import torch as th\n",
    "import torch.nn as nn"
   ]
  },
  {
   "cell_type": "code",
   "execution_count": null,
   "id": "024f9111",
   "metadata": {},
   "outputs": [],
   "source": [
    "x = th.randn(784)"
   ]
  },
  {
   "cell_type": "code",
   "execution_count": null,
   "id": "00e9f530",
   "metadata": {},
   "outputs": [],
   "source": [
    "s = nn.Linear(784, 1)\n",
    "v = nn.Linear(784, 1)"
   ]
  },
  {
   "cell_type": "code",
   "execution_count": null,
   "id": "4c54fdd8",
   "metadata": {},
   "outputs": [],
   "source": [
    "o_s = s(x)\n",
    "o_v = s(x)"
   ]
  },
  {
   "cell_type": "code",
   "execution_count": null,
   "id": "d7b2e9c2",
   "metadata": {},
   "outputs": [],
   "source": [
    "o_s.size()"
   ]
  },
  {
   "cell_type": "code",
   "execution_count": null,
   "id": "c7ad5a41",
   "metadata": {},
   "outputs": [],
   "source": [
    "v.weight.data = v.weight.data - 1e-3 * (o_v - o_s) * x"
   ]
  },
  {
   "cell_type": "code",
   "execution_count": null,
   "id": "18940e63",
   "metadata": {},
   "outputs": [],
   "source": []
  }
 ],
 "metadata": {
  "kernelspec": {
   "display_name": "Python 3 (ipykernel)",
   "language": "python",
   "name": "python3"
  },
  "language_info": {
   "codemirror_mode": {
    "name": "ipython",
    "version": 3
   },
   "file_extension": ".py",
   "mimetype": "text/x-python",
   "name": "python",
   "nbconvert_exporter": "python",
   "pygments_lexer": "ipython3",
   "version": "3.10.4"
  }
 },
 "nbformat": 4,
 "nbformat_minor": 5
}
