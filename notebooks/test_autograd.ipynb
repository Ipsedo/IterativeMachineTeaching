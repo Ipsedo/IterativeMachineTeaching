{
 "cells": [
  {
   "cell_type": "code",
   "execution_count": null,
   "id": "355bc718",
   "metadata": {},
   "outputs": [],
   "source": [
    "import torch\n",
    "\n",
    "bmm_weight = torch.ones((8, 8), dtype=torch.float32, requires_grad=True)\n",
    "a = torch.ones((5, 8, 8), dtype=torch.float32) * torch.arange(5)[:, None, None]\n",
    "\n",
    "b = bmm_weight * a\n",
    "\n",
    "b = b.sum((1, 2))\n",
    "print(b.size())\n",
    "print(torch.eye(len(b), dtype=b.dtype, device=b.device).size())\n",
    "print(bmm_weight.size())\n",
    "grads = torch.autograd.grad(b, bmm_weight, torch.eye(len(b), dtype=b.dtype, device=b.device),\n",
    "                                retain_graph=True, create_graph=True, is_grads_batched=True)\n",
    "\n",
    "print(grads[0].shape)\n"
   ]
  },
  {
   "cell_type": "code",
   "execution_count": null,
   "id": "f085ed21",
   "metadata": {},
   "outputs": [],
   "source": []
  },
  {
   "cell_type": "code",
   "execution_count": null,
   "id": "6d6f5618",
   "metadata": {
    "pycharm": {
     "name": "#%%\n"
    }
   },
   "outputs": [],
   "source": [
    "import torch as th\n",
    "import torch.nn as nn\n",
    "import torch.autograd as th_autograd"
   ]
  },
  {
   "cell_type": "code",
   "execution_count": null,
   "id": "916b324f",
   "metadata": {},
   "outputs": [],
   "source": [
    "x = th.randn(4, 16)\n",
    "l = nn.Linear(16, 3)"
   ]
  },
  {
   "cell_type": "code",
   "execution_count": null,
   "id": "031989f8",
   "metadata": {},
   "outputs": [],
   "source": [
    "f = nn.CrossEntropyLoss(reduction='none')"
   ]
  },
  {
   "cell_type": "code",
   "execution_count": null,
   "id": "648d4921",
   "metadata": {},
   "outputs": [],
   "source": [
    "out_l = l(x)\n",
    "out_f = f(out_l, th.randint(3, (4,)))"
   ]
  },
  {
   "cell_type": "code",
   "execution_count": null,
   "id": "4e32d23b",
   "metadata": {},
   "outputs": [],
   "source": [
    "grad = th_autograd.grad(\n",
    "    outputs=out_f,\n",
    "    inputs=out_l,\n",
    "    grad_outputs=(th.ones(4, 4),),\n",
    "    is_grads_batched=True\n",
    ")"
   ]
  },
  {
   "cell_type": "code",
   "execution_count": null,
   "id": "f2402e1a",
   "metadata": {},
   "outputs": [],
   "source": [
    "grad[0].size()"
   ]
  },
  {
   "cell_type": "code",
   "execution_count": null,
   "id": "63cd4f0b",
   "metadata": {},
   "outputs": [],
   "source": [
    "grad[0].size()"
   ]
  },
  {
   "cell_type": "code",
   "execution_count": null,
   "id": "d90cd7e3",
   "metadata": {
    "pycharm": {
     "name": "#%%\n"
    }
   },
   "outputs": [],
   "source": [
    "from iterative_machine_teaching.teachers import *"
   ]
  },
  {
   "cell_type": "code",
   "execution_count": null,
   "id": "6cc90531",
   "metadata": {
    "pycharm": {
     "name": "#%%\n"
    }
   },
   "outputs": [],
   "source": [
    "model = nn.Sequential(\n",
    "    nn.Linear(16, 16),\n",
    "    nn.ReLU(),\n",
    "    nn.Linear(16, 1),\n",
    "    nn.Sigmoid()\n",
    ")"
   ]
  },
  {
   "cell_type": "code",
   "execution_count": null,
   "id": "df057f7c",
   "metadata": {
    "pycharm": {
     "name": "#%%\n"
    }
   },
   "outputs": [],
   "source": [
    "model[-2].weight.requires_grad"
   ]
  },
  {
   "cell_type": "code",
   "execution_count": null,
   "id": "0a3bb039",
   "metadata": {},
   "outputs": [],
   "source": [
    "batch_size = 8"
   ]
  },
  {
   "cell_type": "code",
   "execution_count": null,
   "id": "e8c67ee0",
   "metadata": {
    "pycharm": {
     "name": "#%%\n"
    }
   },
   "outputs": [],
   "source": [
    "x = th.randn(batch_size, 16) ** 2"
   ]
  },
  {
   "cell_type": "code",
   "execution_count": null,
   "id": "1707663c",
   "metadata": {
    "pycharm": {
     "name": "#%%\n"
    }
   },
   "outputs": [],
   "source": [
    "out = model(x)"
   ]
  },
  {
   "cell_type": "code",
   "execution_count": null,
   "id": "74d529f2",
   "metadata": {
    "pycharm": {
     "name": "#%%\n"
    }
   },
   "outputs": [],
   "source": [
    "gradients = th_autograd.grad(\n",
    "    outputs=out.mean(dim=1), inputs=model[-2].weight,\n",
    "    grad_outputs=(th.eye(batch_size),),\n",
    "    create_graph=True, retain_graph=True,\n",
    "    is_grads_batched=True\n",
    ")"
   ]
  },
  {
   "cell_type": "code",
   "execution_count": null,
   "id": "66af4627",
   "metadata": {
    "pycharm": {
     "name": "#%%\n"
    }
   },
   "outputs": [],
   "source": [
    "gradients[0].size()"
   ]
  }
 ],
 "metadata": {
  "kernelspec": {
   "display_name": "Python 3 (ipykernel)",
   "language": "python",
   "name": "python3"
  },
  "language_info": {
   "codemirror_mode": {
    "name": "ipython",
    "version": 3
   },
   "file_extension": ".py",
   "mimetype": "text/x-python",
   "name": "python",
   "nbconvert_exporter": "python",
   "pygments_lexer": "ipython3",
   "version": "3.10.4"
  }
 },
 "nbformat": 4,
 "nbformat_minor": 5
}
